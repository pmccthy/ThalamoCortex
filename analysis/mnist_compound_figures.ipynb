{
 "cells": [
  {
   "cell_type": "markdown",
   "metadata": {},
   "source": [
    "## **Notebook to automatically generate compound figures for report**\n",
    "Author: patrick.mccarthy@dtc.ox.ac.uk"
   ]
  },
  {
   "cell_type": "code",
   "execution_count": 3,
   "metadata": {},
   "outputs": [],
   "source": [
    "from pathlib import Path\n",
    "import pickle\n",
    "import glob\n",
    "import os\n",
    "import copy\n",
    "import traceback\n",
    "\n",
    "import torch\n",
    "import numpy as np\n",
    "import matplotlib.pyplot as plt\n",
    "import matplotlib.colors as mcolors\n",
    "from matplotlib import colormaps as cm\n",
    "import matplotlib.gridspec as gridspec\n",
    "from scipy.special import softmax\n",
    "from scipy.linalg import svd\n",
    "from sklearn import svm\n",
    "from sklearn.decomposition import KernelPCA, PCA\n",
    "from scipy.stats import entropy\n",
    "\n",
    "from thalamocortex.models import CTCNet\n",
    "from thalamocortex.utils import create_data_loaders, activation_hook, get_neuron_weights, plot_receptive_field"
   ]
  },
  {
   "cell_type": "code",
   "execution_count": 2,
   "metadata": {},
   "outputs": [],
   "source": [
    "save_path = \"/Users/patmccarthy/Documents/phd/rotation1/results_11_03_25/mnist\""
   ]
  },
  {
   "cell_type": "code",
   "execution_count": 3,
   "metadata": {},
   "outputs": [],
   "source": [
    "results_paths = {\n",
    "    \"no feedback\": \"/Users/patmccarthy/Documents/thalamocortex/results/06_03_25_feedforward_mnist/0_CTCNet_TC_none\",\n",
    "    \"driver\": \"/Users/patmccarthy/Documents/thalamocortex/results/11_03_25_driver_mnist/0_CTCNet_TC_add_reciprocal_readout\",\n",
    "    \"modulator\": \"/Users/patmccarthy/Documents/thalamocortex/results/11_03_25_mod1_mnist/0_CTCNet_TC_multi_pre_activation_reciprocal\",\n",
    "    # \"mod2\": \"/Users/patmccarthy/Documents/thalamocortex/results/11_03_25_mod2_mnist/...\",\n",
    "}"
   ]
  },
  {
   "cell_type": "code",
   "execution_count": 4,
   "metadata": {},
   "outputs": [],
   "source": [
    "model_plot_list = [\"no feedback\", \"driver\", \"modulator\"]"
   ]
  },
  {
   "cell_type": "markdown",
   "metadata": {},
   "source": [
    "Load loss and accuracy data"
   ]
  },
  {
   "cell_type": "code",
   "execution_count": null,
   "metadata": {},
   "outputs": [],
   "source": [
    "# load models, learning stats, results \n",
    "results = {}\n",
    "for model_name, path in results_paths.items():\n",
    "    \n",
    "    # NOTE: note loading trained models because can instantiate from final weights\n",
    "\n",
    "    # hyperparameters\n",
    "    with open(Path(f\"{path}\", \"hyperparams.pkl\"), \"rb\") as handle:\n",
    "        hp = pickle.load(handle)\n",
    "\n",
    "    # learning progress\n",
    "    with open(Path(f\"{path}\", \"learning.pkl\"), \"rb\") as handle:\n",
    "        learning = pickle.load(handle)\n",
    "\n",
    "    # store results and params in dict \n",
    "    results[model_name] = {\"val_losses\": learning[\"val_losses\"],\n",
    "                           \"train_losses\": learning[\"train_losses\"],\n",
    "                           \"val_topk_accs\": learning[\"val_topk_accs\"],\n",
    "                           \"train_topk_accs\": learning[\"train_topk_accs\"],\n",
    "                           \"train_time\": learning[\"train_time\"],\n",
    "                           \"state_dicts\": learning[\"state_dicts\"],\n",
    "                           \"hyperparams\": hp}\n",
    "    \n",
    "    # get number of epochs to train for\n",
    "    n_epochs = len(learning[\"train_topk_accs\"])\n",
    "\n",
    "    if model_name in [\"driver\", \"modulator\"]:\n",
    "        results[model_name][\"val_losses\"].pop(0)\n",
    "        results[model_name][\"val_topk_accs\"].pop(0)\n",
    "        results[model_name][\"state_dicts\"].pop(0)\n",
    "\n",
    "    else:\n",
    "        epoch_range = np.arange(0, n_epochs)\n",
    "\n",
    "    # get top-1 accuracies in more convenient form for plotting\n",
    "    train_top1_accs = []\n",
    "    val_top1_accs = []\n",
    "\n",
    "    # store training info\n",
    "    for epoch in np.arange(n_epochs):\n",
    "        train_top1_accs.append(learning[\"train_topk_accs\"][epoch][1])\n",
    "        val_top1_accs.append(learning[\"val_topk_accs\"][epoch][1])\n",
    "    results[model_name][\"train_top1_accs\"] = np.array(train_top1_accs)\n",
    "    results[model_name][\"val_top1_accs\"] = np.array(val_top1_accs)\n",
    "    "
   ]
  },
  {
   "cell_type": "markdown",
   "metadata": {},
   "source": [
    "Load decoding data"
   ]
  },
  {
   "cell_type": "code",
   "execution_count": null,
   "metadata": {},
   "outputs": [],
   "source": [
    "# load decoding accuracies if don't want to re-run\n",
    "with open(Path(save_path, \"svm_decoding_acc.pkl\"), \"rb\") as handle:\n",
    "    accuracies = pickle.load(handle)"
   ]
  },
  {
   "cell_type": "markdown",
   "metadata": {},
   "source": [
    "Load activations decomp data"
   ]
  },
  {
   "cell_type": "code",
   "execution_count": null,
   "metadata": {},
   "outputs": [],
   "source": [
    "# load decoding accuracies if don't want to re-run\n",
    "with open(Path(save_path, \"activations_reduced.pkl\"), \"rb\") as handle:\n",
    "    activations_reduced = pickle.load(handle)"
   ]
  },
  {
   "cell_type": "markdown",
   "metadata": {},
   "source": [
    "Load test set for colour-coding"
   ]
  },
  {
   "cell_type": "code",
   "execution_count": null,
   "metadata": {},
   "outputs": [],
   "source": [
    "# create loaders\n",
    "trainset_loader, testset_loader, metadata = create_data_loaders(dataset=results[models_selected[0]][\"hyperparams\"][\"dataset\"],\n",
    "                                                                norm=results[models_selected[0]][\"hyperparams\"][\"norm\"],\n",
    "                                                                batch_size=32,\n",
    "                                                                save_path=\"/Users/patmccarthy/Documents/ThalamoCortex/data\")\n"
   ]
  },
  {
   "cell_type": "code",
   "execution_count": null,
   "metadata": {},
   "outputs": [],
   "source": [
    "# load full test set\n",
    "X_all = []\n",
    "y_all = []\n",
    "for X, y in iter(testset_loader):\n",
    "    # X_all.append(X.detach().numpy()[:, 0, :, :])\n",
    "    # y_all.append(y.detach().numpy()[:])\n",
    "    X_all.append(X[:, :, :])\n",
    "    y_all.append(y[:])\n",
    "if results[model_plot_list[0]][\"hyperparams\"][\"dataset\"] in [\"BinaryMNIST\", \"LeftRightMNIST\"]:\n",
    "    # Concatenate along the first axis (num_samples)\n",
    "    X_all_arr = np.concatenate(X_all, axis=0)  # Shape: (num_samples, 1, 28, 28)\n",
    "    y_all_reshaped = np.concatenate(y_all, axis=0)  # Shape: (num_samples,)\n",
    "\n",
    "    # Reshape X to [samples, features]\n",
    "    X_all_reshaped = X_all_arr.reshape(X_all_arr.shape[0], -1)  # Shape: (num_samples, 28*28)\n",
    "else:\n",
    "    X_all_tensor = torch.cat(X_all, dim=0)  # Shape: [num_samples, 1, 28, 28]\n",
    "    y_all_tensor = torch.cat(y_all, dim=0)  # Shape: [num_samples]\n",
    "\n",
    "    # Convert to NumPy\n",
    "    X_all_arr = X_all_tensor.numpy()  # Shape: (num_samples, 1, 28, 28)\n",
    "    y_all_reshaped = y_all_tensor.numpy()  # Shape: (num_samples,)\n",
    "\n",
    "    # Reshape X to [samples, features]\n",
    "    X_all_reshaped = X_all_arr.reshape(X_all_arr.shape[0], -1)  # Shape: (num_samples, 28*28)"
   ]
  },
  {
   "cell_type": "markdown",
   "metadata": {},
   "source": [
    "Create grid for plots"
   ]
  },
  {
   "cell_type": "code",
   "execution_count": null,
   "metadata": {},
   "outputs": [
    {
     "data": {
      "image/png": "[encoded data removed]",
      "text/plain": [
       "<Figure size 1000x1000 with 8 Axes>"
      ]
     },
     "metadata": {},
     "output_type": "display_data"
    }
   ],
   "source": [
    "fig = plt.figure(figsize=(10, 10))\n",
    "gs = gridspec.GridSpec(5, 6)\n",
    "\n",
    "# Assign different sizes to subplots\n",
    "axs = {}\n",
    "axs[\"loss_curve\"] = fig.add_subplot(gs[0, 0:3])\n",
    "axs[\"acc_curve\"] = fig.add_subplot(gs[1, 0:3])\n",
    "axs[\"decoding_ctx1\"] = fig.add_subplot(gs[0:2, 3:4])\n",
    "axs[\"decoding_ctx2\"] = fig.add_subplot(gs[0:2, 4:5])\n",
    "axs[\"decoding_thal\"] = fig.add_subplot(gs[0:2, 5:6])\n",
    "axs[\"activations_ctx1_block\"] = gs[2:4, 0:2]\n",
    "axs[\"activations_ctx2_block\"] = gs[2:4, 2:4]\n",
    "axs[\"activations_thal_block\"] = gs[2:4, 4:6]"
   ]
  },
  {
   "cell_type": "markdown",
   "metadata": {},
   "source": [
    "Make loss and accuracy plots"
   ]
  },
  {
   "cell_type": "code",
   "execution_count": null,
   "metadata": {},
   "outputs": [],
   "source": [
    "# loss through time\n",
    "n_epochs = len(results[model_plot_list[0]][\"val_losses\"])\n",
    "colours = [\"r\", \"m\", \"b\", \"o\"]\n",
    "axs[\"loss_curve\"].axhline(10, ls=\"--\", c=\"k\", label=\"chance\")\n",
    "for _, (model_name, model_results) in enumerate(results.items()):\n",
    "    if model_name in model_plot_list:\n",
    "        n_epochs = len(model_results[\"val_losses\"])\n",
    "\n",
    "        axs[\"loss_curve\"].plot(np.arange(n_epochs), np.median(np.array(model_results[\"val_losses\"]), axis=-1), ls=\"--\", linewidth=1, label=f\"{model_name} val.\", c=colours[models_plotted_idx-1])\n",
    "        axs[\"loss_curve\"].plot(np.arange(n_epochs), np.median(np.array(model_results[\"train_losses\"]), axis=-1), ls=\"-\", linewidth=1, label=f\"{model_name} train\", c=colours[models_plotted_idx-1])\n",
    "axs[\"loss_curve\"].set_ylabel(\"cross entropy\")\n",
    "axs[\"loss_curve\"].set_xlabel(\"epoch\")\n",
    "axs[\"loss_curve\"].set_xlim(0, n_epochs)\n",
    "axs[\"loss_curve\"].set_ylim(0, 2.5)\n",
    "axs[\"loss_curve\"].legend(loc=\"upper right\")"
   ]
  },
  {
   "cell_type": "code",
   "execution_count": null,
   "metadata": {},
   "outputs": [],
   "source": [
    "# accuracy through time\n",
    "n_epochs = len(results[model_plot_list[0]][\"val_losses\"])\n",
    "axs[\"acc_curve\"].axhline(10, ls=\"--\", c=\"k\", label=\"chance\")\n",
    "for _, (model_name, model_results) in enumerate(results.items()):\n",
    "    if model_name in model_plot_list:\n",
    "\n",
    "        n_epochs = len(model_results[\"val_losses\"])\n",
    "\n",
    "        # ax.plot(np.arange(n_epochs), np.array(model_results[\"val_top1_accs\"]),ls=\"--\", label=f\"{model_name} val.\", linewidth=1, c=colours[models_plotted_idx-1])\n",
    "        axs[\"acc_curve\"].plot(np.arange(n_epochs), np.array(model_results[\"train_top1_accs\"]) * 100, ls=\"-\", label=f\"{model_name} train\", linewidth=1, c=colours[models_plotted_idx-1])\n",
    "\n",
    "# ax.set_xticks(range(1, len(models_plotted)+1), models_plotted)\n",
    "axs[\"acc_curve\"].set_ylabel(\"top-1 accuracy (%)\")\n",
    "axs[\"acc_curve\"].set_xlabel(\"epoch\")\n",
    "axs[\"acc_curve\"].set_ylim(0, 100)\n",
    "axs[\"acc_curve\"].set_xlim(0, n_epochs)\n",
    "axs[\"acc_curve\"].legend(loc=\"center right\")"
   ]
  },
  {
   "cell_type": "markdown",
   "metadata": {},
   "source": [
    "Make decoding plots"
   ]
  },
  {
   "cell_type": "code",
   "execution_count": null,
   "metadata": {},
   "outputs": [],
   "source": [
    "for layer in accuracies.keys():\n",
    "    for model_idx, model_selected in enumerate(accuracies[layer].keys()):\n",
    "        axs[f\"decoding_{layer}\"].plot(accuracies[layer][model_selected].keys(), np.array(list(accuracies[layer][model_selected].values())) * 100, c=colours[model_idx], label=model_selected)\n",
    "    axs[f\"decoding_{layer}\"].axhline(10, ls=\"--\", c=\"k\", label=\"chance\")\n",
    "    axs[f\"decoding_{layer}\"].set_title(f\"SVM decoding MNIST from {layer} activations\")\n",
    "    axs[f\"decoding_{layer}\"].set_ylabel(\"classification accuracy (%)\")\n",
    "    axs[f\"decoding_{layer}\"].set_xlabel(\"epoch\")\n",
    "    axs[f\"decoding_{layer}\"].set_ylim(0, 100)\n",
    "    axs[f\"decoding_{layer}\"].set_xlim(list(accuracies[layer][model_selected].keys())[0], list(accuracies[layer][model_selected].keys())[-1])\n",
    "    axs[f\"decoding_{layer}\"].legend(loc=\"center right\")"
   ]
  },
  {
   "cell_type": "markdown",
   "metadata": {},
   "source": [
    "Make activations plots"
   ]
  },
  {
   "cell_type": "code",
   "execution_count": null,
   "metadata": {},
   "outputs": [],
   "source": [
    "# activations analysis\n",
    "kernel = \"cosine\"\n",
    "epochs = {\"before training\": 0,\n",
    "          \"after training\": 799}\n",
    "\n",
    "# generate colourmap\n",
    "jet_cmap = plt.colormaps[\"jet\"]  \n",
    "N = 10\n",
    "colors = jet_cmap(np.linspace(0, 1, N)) \n",
    "discrete_cmap = mcolors.ListedColormap(colors)\n",
    "\n",
    "for layer in accuracies.keys():\n",
    "    gs_nested = gridspec.GridSpecFromSubplotSpec(3, 2, subplot_spec=axs[f\"activations_{layer}_block\"], wspace=0.2, hspace=0.2)\n",
    "    \n",
    "    if layer == \"thal\":\n",
    "        model_list = [\"driver\", \"modulator\"]\n",
    "    else:\n",
    "        model_list = [\"driver\", \"modulator\", \"no feedback\"]\n",
    "\n",
    "    for model_idx, model_selected in enumerate(model_list):\n",
    "\n",
    "        for epoch_idx, (epoch_name, epoch) in enumerate(epochs.items()):\n",
    "            \n",
    "            ax = fig.add_subplot(gs_nested)[model_idx, epoch_idx]\n",
    "\n",
    "            scatter = ax.scatter(activations_reduced[model_selected][epoch_name][:, 0], activations_reduced[model_selected][epoch_name][:, 1], c=y_all_reshaped, cmap=discrete_cmap, alpha=0.7, s=0.2)\n",
    "            plt.colorbar(scatter, label=\"class ID\")\n",
    "            \n",
    "            ax.set_title(f\"{model_selected}, {epoch_name}\")\n",
    "            ax.set_xlabel(\"PC1\")\n",
    "            ax.set_ylabel(\"PC2\")\n"
   ]
  },
  {
   "cell_type": "markdown",
   "metadata": {},
   "source": [
    "Make ablation plots"
   ]
  },
  {
   "cell_type": "code",
   "execution_count": null,
   "metadata": {},
   "outputs": [],
   "source": [
    "# load ablation activations\n",
    "with open(Path(save_path, \"ablation_activations.pkl\"), \"rb\") as handle:\n",
    "    activations = pickle.load(handle)"
   ]
  },
  {
   "cell_type": "code",
   "execution_count": null,
   "metadata": {},
   "outputs": [],
   "source": [
    "# load ablation accuracies\n",
    "with open(Path(save_path, \"ablation_accuracies.pkl\"), \"rb\") as handle:\n",
    "    accuracies = pickle.load(handle)"
   ]
  },
  {
   "cell_type": "code",
   "execution_count": null,
   "metadata": {},
   "outputs": [],
   "source": [
    "accuracies_reformat = {kind: [v[799] for _, v in accuracies[kind].items()] for kind in accuracies.keys()}\n",
    "accuracies_reformat[\"thal_to_ctx1 ablated\"][0] = None\n",
    "accuracies_reformat[\"thal_to_ctx2 ablated\"][0] = None\n",
    "accuracies_reformat[\"all feedback ablated\"][0] = None"
   ]
  },
  {
   "cell_type": "code",
   "execution_count": null,
   "metadata": {},
   "outputs": [
    {
     "data": {
      "image/png": "[encoded data removed]",
      "text/plain": [
       "<Figure size 640x480 with 1 Axes>"
      ]
     },
     "metadata": {},
     "output_type": "display_data"
    }
   ],
   "source": [
    "# bar plot of accuracy for ablated models\n",
    "colours = [\"g\", \"c\", \"y\", \"orange\"]\n",
    "fig, ax = plt.subplots(1, 1)\n",
    "ax.axhline(10, ls=\"--\", c=\"k\", label=\"chance\")\n",
    "x = 0\n",
    "offset = 0\n",
    "tick_locs = []\n",
    "x_group = 0\n",
    "for model_idx, model in enumerate(model_plot_list):\n",
    "    x_group +=  offset\n",
    "    num_bars = 0\n",
    "    for ablation_idx, (ablation_type, accuracies_) in enumerate(accuracies_reformat.items()):\n",
    "        x = x_group + ablation_idx\n",
    "        if accuracies_[model_idx] is not None:\n",
    "            num_bars += 1\n",
    "            if model == \"driver\":\n",
    "                label = ablation_type\n",
    "            else:\n",
    "                label=None\n",
    "            ax.bar(x, accuracies_[model_idx] * 100, facecolor=colours[ablation_idx], label=label)\n",
    "            offset = 5\n",
    "        else:\n",
    "            offset = 2\n",
    "    tick_locs.append(x_group+num_bars/2 -.5)\n",
    "ax.legend()\n",
    "ax.set_ylim(0, 100)\n",
    "ax.set_xticks(tick_locs, model_plot_list)\n",
    "ax.set_ylabel(\"top-1 accuracy (%)\")\n",
    "ax.set_title(f\"thalamic feedback ablations on fully trained models\")\n",
    "fig.savefig(Path(save_path, f\"accuracy_ablation.png\"))"
   ]
  }
 ],
 "metadata": {
  "kernelspec": {
   "display_name": "thalamocortex",
   "language": "python",
   "name": "python3"
  },
  "language_info": {
   "codemirror_mode": {
    "name": "ipython",
    "version": 3
   },
   "file_extension": ".py",
   "mimetype": "text/x-python",
   "name": "python",
   "nbconvert_exporter": "python",
   "pygments_lexer": "ipython3",
   "version": "3.10.16"
  }
 },
 "nbformat": 4,
 "nbformat_minor": 2
}
