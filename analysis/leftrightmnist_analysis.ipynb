{
 "cells": [
  {
   "cell_type": "markdown",
   "metadata": {},
   "source": [
    "# **Analysis of models trained on LeftRightMNIST classification**\n",
    "Author: patrick.mccarthy@dtc.ox.ac.uk"
   ]
  },
  {
   "cell_type": "code",
   "execution_count": null,
   "metadata": {},
   "outputs": [],
   "source": [
    "from pathlib import Path\n",
    "import pickle\n",
    "import glob\n",
    "import os\n",
    "from thalamocortex.models import CTCNet\n",
    "from thalamocortex.utils import create_data_loaders\n",
    "import torch\n",
    "import numpy as np\n",
    "import matplotlib.pyplot as plt\n",
    "from scipy.special import softmax"
   ]
  },
  {
   "cell_type": "markdown",
   "metadata": {},
   "source": [
    "Load results"
   ]
  },
  {
   "cell_type": "code",
   "execution_count": null,
   "metadata": {},
   "outputs": [],
   "source": [
    "results_paths = {\n",
    "    \"ff_MNIST\": \"/Users/patmccarthy/Documents/thalamocortex/results/07_03_25_feedforward_mnist/0_CTCNet_TC_none\",\n",
    "    \"driver_MNIST\": \"/Users/patmccarthy/Documents/thalamocortex/results/07_03_25_driver_mnist/...\",\n",
    "    \"mod1_MNIST\": \"/Users/patmccarthy/Documents/thalamocortex/results/07_03_25_mod1_mnist/...\",\n",
    "    \"mod2_MNIST\": \"/Users/patmccarthy/Documents/thalamocortex/results/07_03_25_mod2_mnist/...\",\n",
    "}"
   ]
  },
  {
   "cell_type": "code",
   "execution_count": null,
   "metadata": {},
   "outputs": [],
   "source": [
    "# load models, learning stats, results \n",
    "results = {}\n",
    "for model_name, path in results_paths.items():\n",
    "    \n",
    "    # NOTE: note loading trained models because can instantiate from final weights\n",
    "\n",
    "    # hyperparameters\n",
    "    with open(Path(f\"{path}\", \"hyperparams.pkl\"), \"rb\") as handle:\n",
    "        hp = pickle.load(handle)\n",
    "\n",
    "    # learning progress\n",
    "    with open(Path(f\"{path}\", \"learning.pkl\"), \"rb\") as handle:\n",
    "        learning = pickle.load(handle)\n",
    "\n",
    "    # store results and params in dict\n",
    "    results[model_name] = {\"val_losses\": learning[\"val_losses\"],\n",
    "                           \"train_losses\": learning[\"train_losses\"],\n",
    "                           \"train_time\": learning[\"train_time\"],\n",
    "                           \"state_dicts\": learning[\"state_dicts\"],\n",
    "                           \"hyperparams\": hp}\n",
    "    "
   ]
  },
  {
   "cell_type": "markdown",
   "metadata": {},
   "source": [
    "Plot learning progress"
   ]
  },
  {
   "cell_type": "code",
   "execution_count": null,
   "metadata": {},
   "outputs": [],
   "source": [
    "# loss through time"
   ]
  },
  {
   "cell_type": "code",
   "execution_count": null,
   "metadata": {},
   "outputs": [],
   "source": [
    "# accuracy through time"
   ]
  },
  {
   "cell_type": "code",
   "execution_count": null,
   "metadata": {},
   "outputs": [],
   "source": [
    "# accuracy before and aftr convergence"
   ]
  },
  {
   "cell_type": "markdown",
   "metadata": {},
   "source": [
    "Trained model analysis"
   ]
  },
  {
   "cell_type": "code",
   "execution_count": null,
   "metadata": {},
   "outputs": [],
   "source": [
    "# inference on test set"
   ]
  },
  {
   "cell_type": "code",
   "execution_count": null,
   "metadata": {},
   "outputs": [],
   "source": [
    "# weight decoding analysis"
   ]
  },
  {
   "cell_type": "code",
   "execution_count": null,
   "metadata": {},
   "outputs": [],
   "source": [
    "# weight decomposition analysis"
   ]
  },
  {
   "cell_type": "code",
   "execution_count": null,
   "metadata": {},
   "outputs": [],
   "source": [
    "# activations analysis"
   ]
  },
  {
   "cell_type": "code",
   "execution_count": null,
   "metadata": {},
   "outputs": [],
   "source": [
    "# receptive field analysis"
   ]
  },
  {
   "cell_type": "markdown",
   "metadata": {},
   "source": [
    "Ablation analysis"
   ]
  },
  {
   "cell_type": "code",
   "execution_count": null,
   "metadata": {},
   "outputs": [],
   "source": [
    "# accuracy with ablated feedback connections"
   ]
  },
  {
   "cell_type": "code",
   "execution_count": null,
   "metadata": {},
   "outputs": [],
   "source": [
    "# activations with ablated feedback"
   ]
  }
 ],
 "metadata": {
  "language_info": {
   "name": "python"
  }
 },
 "nbformat": 4,
 "nbformat_minor": 2
}
