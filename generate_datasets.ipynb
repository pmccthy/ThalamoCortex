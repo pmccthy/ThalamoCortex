{
 "cells": [
  {
   "cell_type": "markdown",
   "metadata": {},
   "source": [
    "## **Generate a dataset of concatenated images with \"left\" and \"right\" cue patches**\n",
    "Author: patrick.mccarthy@dtc.ox.ac.uk"
   ]
  },
  {
   "cell_type": "code",
   "execution_count": 16,
   "metadata": {},
   "outputs": [],
   "source": [
    "import os\n",
    "from pathlib import Path\n",
    "import numpy as np\n",
    "import matplotlib.pyplot as plt\n",
    "import pickle\n",
    "from utils import create_data_loaders, add_cue_patch"
   ]
  },
  {
   "cell_type": "code",
   "execution_count": 9,
   "metadata": {},
   "outputs": [],
   "source": [
    "dataset = \"MNIST\"\n",
    "norm = \"normalise\"\n",
    "save_path = \"/Users/patmccarthy/Documents/thalamocortex/data\"\n",
    "batch_size = 32"
   ]
  },
  {
   "cell_type": "markdown",
   "metadata": {},
   "source": [
    "Load source dataset"
   ]
  },
  {
   "cell_type": "code",
   "execution_count": 10,
   "metadata": {},
   "outputs": [],
   "source": [
    "trainset_loader, testset_loader, metadata = create_data_loaders(dataset=dataset,\n",
    "                                                                norm=norm,\n",
    "                                                                save_path=save_path,\n",
    "                                                                batch_size=batch_size)"
   ]
  },
  {
   "cell_type": "code",
   "execution_count": null,
   "metadata": {},
   "outputs": [],
   "source": [
    "# load full training set\n",
    "X_all = []\n",
    "y_all = []\n",
    "for X, y in iter(trainset_loader):\n",
    "    X_all.append(X.detach().numpy()[:, 0, :, :])\n",
    "    y_all.append(y.detach().numpy()[:])\n",
    "for X, y in iter(testset_loader):\n",
    "    X_all.append(X.detach().numpy()[:, 0, :, :])\n",
    "    y_all.append(y.detach().numpy()[:])\n",
    "X_all_arr = np.array(X_all)\n",
    "y_all_arr = np.array(y_all)\n",
    "# get all samples into one array\n",
    "X_all_reshaped = np.zeros([X_all_arr.shape[0] * X_all_arr[0].shape[0], X_all_arr[0].shape[1], X_all_arr[0].shape[2]])\n",
    "y_all_reshaped = np.zeros([y_all_arr.shape[0] * y_all_arr[0].shape[0]])\n",
    "for batch_idx, X_batch in enumerate(X_all_arr):\n",
    "    for point_idx, _ in enumerate(X_batch):\n",
    "        X_all_reshaped[point_idx, ...] = X_all_arr[batch_idx][point_idx, :, :]\n",
    "        y_all_reshaped[point_idx] = y_all_arr[batch_idx][point_idx]"
   ]
  },
  {
   "cell_type": "markdown",
   "metadata": {},
   "source": [
    "Generate new dataset"
   ]
  },
  {
   "cell_type": "code",
   "execution_count": 12,
   "metadata": {},
   "outputs": [],
   "source": [
    "cue_params = {\"size\": [2, 2],\n",
    "              \"margin\": [0, 0],\n",
    "              \"left\": {\"location\": \"tl\",\n",
    "                       \"intensity\": 1},\n",
    "              \"right\": {\"location\": \"tr\",\n",
    "                       \"intensity\": 1}}"
   ]
  },
  {
   "cell_type": "code",
   "execution_count": 13,
   "metadata": {},
   "outputs": [],
   "source": [
    "# create combined image dataset with cue patches\n",
    "X_new = np.empty([X_all_reshaped.shape[0]//2, X_all_reshaped.shape[1], X_all_reshaped.shape[1] * 2])\n",
    "y_new = np.empty([y_all_reshaped.shape[0]//2])\n",
    "for new_idx, old_idx in enumerate(np.arange(0, X_all_reshaped.shape[0], 2)):\n",
    "\n",
    "    # get side and target\n",
    "    if new_idx % 2 == 0:\n",
    "        side = \"left\"\n",
    "        y = y_all_reshaped[old_idx]\n",
    "    else:\n",
    "        side = \"right\"\n",
    "        y = y_all_reshaped[old_idx+1]\n",
    "\n",
    "    # generate combined image\n",
    "    img_combined = np.concatenate((X_all_reshaped[old_idx],  X_all_reshaped[old_idx+1]), axis=1)\n",
    "\n",
    "    # add cue\n",
    "    X = add_cue_patch(img_combined, cue_params, side)\n",
    "\n",
    "    # add images to new dataset\n",
    "    X_new[new_idx, :, :] = X\n",
    "    y_new[new_idx] = y\n"
   ]
  },
  {
   "cell_type": "code",
   "execution_count": null,
   "metadata": {},
   "outputs": [],
   "source": [
    "# plot example image as sanity check\n",
    "idx = 5\n",
    "fig, ax = plt.subplots(1, 1, figsize=(5, 2.5))\n",
    "ax.imshow(X_new[idx], cmap=\"gray\")\n",
    "ax.set_title(f\"target: {y_new[idx]:.0f}\")"
   ]
  },
  {
   "cell_type": "markdown",
   "metadata": {},
   "source": [
    "Save new dataset"
   ]
  },
  {
   "cell_type": "code",
   "execution_count": null,
   "metadata": {},
   "outputs": [],
   "source": [
    "X_new.shape"
   ]
  },
  {
   "cell_type": "code",
   "execution_count": null,
   "metadata": {},
   "outputs": [],
   "source": [
    "# split into train and test sets\n",
    "train_test_split = 0.8\n",
    "num_train_samples = np.floor(X_new.shape[0] * train_test_split).astype(int)\n",
    "train_data = {\"X\": X_new[:num_train_samples, ...],\n",
    "              \"y\": y_new[:num_train_samples]}\n",
    "test_data = {\"X\": X_new[num_train_samples:, ...],\n",
    "             \"y\": y_new[num_train_samples:]}"
   ]
  },
  {
   "cell_type": "code",
   "execution_count": 31,
   "metadata": {},
   "outputs": [],
   "source": [
    "# save dataset\n",
    "save_folder = Path(save_path, \"LeftRightMNIST\")\n",
    "if not os.path.isdir(save_folder):\n",
    "    os.mkdir(save_folder)\n",
    "with open(Path(save_folder, \"train.pkl\"), \"wb\") as handle:\n",
    "    pickle.dump(train_data, handle)\n",
    "with open(Path(save_folder, \"test.pkl\"), \"wb\") as handle:\n",
    "    pickle.dump(test_data, handle)"
   ]
  },
  {
   "cell_type": "markdown",
   "metadata": {},
   "source": [
    "Test loading dataset"
   ]
  },
  {
   "cell_type": "code",
   "execution_count": 33,
   "metadata": {},
   "outputs": [],
   "source": [
    "dataset_path = \"/Users/patmccarthy/Documents/thalamocortex/data/LeftRightMNIST/train.pkl\""
   ]
  },
  {
   "cell_type": "code",
   "execution_count": null,
   "metadata": {},
   "outputs": [],
   "source": [
    "trainset_loader, testset_loader, metadata = create_data_loaders(\"LeftRightMNIST\", \"normalise\", 32, \"/Users/patmccarthy/Documents/thalamocortex/data\")"
   ]
  },
  {
   "cell_type": "code",
   "execution_count": null,
   "metadata": {},
   "outputs": [],
   "source": []
  }
 ],
 "metadata": {
  "kernelspec": {
   "display_name": "thalamocortex",
   "language": "python",
   "name": "python3"
  },
  "language_info": {
   "codemirror_mode": {
    "name": "ipython",
    "version": 3
   },
   "file_extension": ".py",
   "mimetype": "text/x-python",
   "name": "python",
   "nbconvert_exporter": "python",
   "pygments_lexer": "ipython3",
   "version": "3.10.16"
  }
 },
 "nbformat": 4,
 "nbformat_minor": 2
}
