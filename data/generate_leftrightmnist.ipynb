{
 "cells": [
  {
   "cell_type": "markdown",
   "metadata": {},
   "source": [
    "## **Generate a dataset of concatenated images with \"left\" and \"right\" cue patches**\n",
    "Author: patrick.mccarthy@dtc.ox.ac.uk"
   ]
  },
  {
   "cell_type": "code",
   "execution_count": 1,
   "metadata": {},
   "outputs": [],
   "source": [
    "%load_ext autoreload\n",
    "%autoreload 1"
   ]
  },
  {
   "cell_type": "code",
   "execution_count": 2,
   "metadata": {},
   "outputs": [
    {
     "ename": "ModuleNotFoundError",
     "evalue": "No module named 'utils'",
     "output_type": "error",
     "traceback": [
      "\u001b[0;31m---------------------------------------------------------------------------\u001b[0m",
      "\u001b[0;31mModuleNotFoundError\u001b[0m                       Traceback (most recent call last)",
      "Cell \u001b[0;32mIn[2], line 6\u001b[0m\n\u001b[1;32m      4\u001b[0m \u001b[38;5;28;01mimport\u001b[39;00m\u001b[38;5;250m \u001b[39m\u001b[38;5;21;01mmatplotlib\u001b[39;00m\u001b[38;5;21;01m.\u001b[39;00m\u001b[38;5;21;01mpyplot\u001b[39;00m\u001b[38;5;250m \u001b[39m\u001b[38;5;28;01mas\u001b[39;00m\u001b[38;5;250m \u001b[39m\u001b[38;5;21;01mplt\u001b[39;00m\n\u001b[1;32m      5\u001b[0m \u001b[38;5;28;01mimport\u001b[39;00m\u001b[38;5;250m \u001b[39m\u001b[38;5;21;01mpickle\u001b[39;00m\n\u001b[0;32m----> 6\u001b[0m \u001b[38;5;28;01mfrom\u001b[39;00m\u001b[38;5;250m \u001b[39m\u001b[38;5;21;01mutils\u001b[39;00m\u001b[38;5;250m \u001b[39m\u001b[38;5;28;01mimport\u001b[39;00m create_data_loaders, add_cue_patch\n",
      "\u001b[0;31mModuleNotFoundError\u001b[0m: No module named 'utils'"
     ]
    }
   ],
   "source": [
    "import os\n",
    "from pathlib import Path\n",
    "import numpy as np\n",
    "import matplotlib.pyplot as plt\n",
    "import pickle\n",
    "from utils import create_data_loaders, add_cue_patch"
   ]
  },
  {
   "cell_type": "code",
   "execution_count": 3,
   "metadata": {},
   "outputs": [],
   "source": [
    "dataset = \"MNIST\"\n",
    "norm = \"normalise\"\n",
    "save_path = \"/Users/patmccarthy/Documents/thalamocortex/data\"\n",
    "batch_size = 32"
   ]
  },
  {
   "cell_type": "markdown",
   "metadata": {},
   "source": [
    "Load source dataset"
   ]
  },
  {
   "cell_type": "code",
   "execution_count": 4,
   "metadata": {},
   "outputs": [],
   "source": [
    "trainset_loader, testset_loader, metadata = create_data_loaders(dataset=dataset,\n",
    "                                                                norm=norm,\n",
    "                                                                save_path=save_path,\n",
    "                                                                batch_size=batch_size)"
   ]
  },
  {
   "cell_type": "code",
   "execution_count": 5,
   "metadata": {},
   "outputs": [
    {
     "name": "stderr",
     "output_type": "stream",
     "text": [
      "/var/folders/4g/1kv65jgx1x1558h12tz57s580000gn/T/ipykernel_3538/3371650113.py:10: VisibleDeprecationWarning: Creating an ndarray from ragged nested sequences (which is a list-or-tuple of lists-or-tuples-or ndarrays with different lengths or shapes) is deprecated. If you meant to do this, you must specify 'dtype=object' when creating the ndarray.\n",
      "  X_all_arr = np.array(X_all)\n",
      "/var/folders/4g/1kv65jgx1x1558h12tz57s580000gn/T/ipykernel_3538/3371650113.py:11: VisibleDeprecationWarning: Creating an ndarray from ragged nested sequences (which is a list-or-tuple of lists-or-tuples-or ndarrays with different lengths or shapes) is deprecated. If you meant to do this, you must specify 'dtype=object' when creating the ndarray.\n",
      "  y_all_arr = np.array(y_all)\n"
     ]
    }
   ],
   "source": [
    "# load full training set\n",
    "X_all = []\n",
    "y_all = []\n",
    "for X, y in iter(trainset_loader):\n",
    "    X_all.append(X.detach().numpy()[:, 0, :, :])\n",
    "    y_all.append(y.detach().numpy()[:])\n",
    "for X, y in iter(testset_loader):\n",
    "    X_all.append(X.detach().numpy()[:, 0, :, :])\n",
    "    y_all.append(y.detach().numpy()[:])\n",
    "X_all_arr = np.array(X_all)\n",
    "y_all_arr = np.array(y_all)\n",
    "# get all samples into one array\n",
    "X_all_reshaped = np.zeros([X_all_arr.shape[0] * X_all_arr[0].shape[0], X_all_arr[0].shape[1], X_all_arr[0].shape[2]])\n",
    "y_all_reshaped = np.zeros([y_all_arr.shape[0] * y_all_arr[0].shape[0]])\n",
    "new_idx = 0\n",
    "for batch_idx, X_batch in enumerate(X_all_arr):\n",
    "    for point_idx, _ in enumerate(X_batch):\n",
    "        X_all_reshaped[new_idx, ...] = X_all_arr[batch_idx][point_idx, :, :]\n",
    "        y_all_reshaped[new_idx] = y_all_arr[batch_idx][point_idx]\n",
    "        new_idx += 1"
   ]
  },
  {
   "cell_type": "code",
   "execution_count": 6,
   "metadata": {},
   "outputs": [
    {
     "data": {
      "text/plain": [
       "array([2., 3., 6., ..., 0., 0., 0.])"
      ]
     },
     "execution_count": 6,
     "metadata": {},
     "output_type": "execute_result"
    }
   ],
   "source": [
    "y_all_reshaped"
   ]
  },
  {
   "cell_type": "markdown",
   "metadata": {},
   "source": [
    "Generate new dataset"
   ]
  },
  {
   "cell_type": "code",
   "execution_count": 7,
   "metadata": {},
   "outputs": [],
   "source": [
    "cue_params = {\"size\": [2, 2],\n",
    "              \"margin\": [0, 0],\n",
    "              \"left\": {\"location\": \"tl\",\n",
    "                       \"intensity\": 1},\n",
    "              \"right\": {\"location\": \"tr\",\n",
    "                       \"intensity\": 1}}"
   ]
  },
  {
   "cell_type": "code",
   "execution_count": 8,
   "metadata": {},
   "outputs": [],
   "source": [
    "# create combined image dataset with cue patches\n",
    "X_new = np.empty([X_all_reshaped.shape[0]//2, X_all_reshaped.shape[1], X_all_reshaped.shape[1] * 2])\n",
    "y_new = np.empty([y_all_reshaped.shape[0]//2])\n",
    "sides = []\n",
    "for new_idx, old_idx in enumerate(np.arange(0, X_all_reshaped.shape[0], 2)):\n",
    "\n",
    "    # get side and target\n",
    "    if new_idx % 2 == 0:\n",
    "        side = \"left\"\n",
    "        y = y_all_reshaped[old_idx]\n",
    "    else:\n",
    "        side = \"right\"\n",
    "        y = y_all_reshaped[old_idx+1]\n",
    "\n",
    "    # generate combined image\n",
    "    img_combined = np.concatenate((X_all_reshaped[old_idx],  X_all_reshaped[old_idx+1]), axis=1)\n",
    "\n",
    "    # add cue\n",
    "    X = add_cue_patch(img_combined, cue_params, side)\n",
    "\n",
    "    # add images to new dataset\n",
    "    X_new[new_idx, :, :] = X\n",
    "    y_new[new_idx] = y\n",
    "    sides.append(side)"
   ]
  },
  {
   "cell_type": "code",
   "execution_count": 9,
   "metadata": {},
   "outputs": [
    {
     "data": {
      "text/plain": [
       "array([2., 5., 6., ..., 0., 0., 0.])"
      ]
     },
     "execution_count": 9,
     "metadata": {},
     "output_type": "execute_result"
    }
   ],
   "source": [
    "y_new"
   ]
  },
  {
   "cell_type": "code",
   "execution_count": 10,
   "metadata": {},
   "outputs": [
    {
     "data": {
      "text/plain": [
       "Text(0.5, 1.0, 'target: 2')"
      ]
     },
     "execution_count": 10,
     "metadata": {},
     "output_type": "execute_result"
    },
    {
     "data": {
      "image/png": "[encoded data removed]",
      "text/plain": [
       "<Figure size 500x250 with 1 Axes>"
      ]
     },
     "metadata": {},
     "output_type": "display_data"
    }
   ],
   "source": [
    "# plot example image as sanity check\n",
    "idx = 5\n",
    "fig, ax = plt.subplots(1, 1, figsize=(5, 2.5))\n",
    "ax.imshow(X_new[idx], cmap=\"gray\")\n",
    "ax.set_title(f\"target: {y_new[idx]:.0f}, target side: {sides[idx]}\")"
   ]
  },
  {
   "cell_type": "markdown",
   "metadata": {},
   "source": [
    "Save new dataset"
   ]
  },
  {
   "cell_type": "code",
   "execution_count": 11,
   "metadata": {},
   "outputs": [
    {
     "data": {
      "text/plain": [
       "(35008, 28, 56)"
      ]
     },
     "execution_count": 11,
     "metadata": {},
     "output_type": "execute_result"
    }
   ],
   "source": [
    "X_new.shape"
   ]
  },
  {
   "cell_type": "code",
   "execution_count": 12,
   "metadata": {},
   "outputs": [],
   "source": [
    "# split into train and test sets\n",
    "train_test_split = 0.8\n",
    "num_train_samples = np.floor(X_new.shape[0] * train_test_split).astype(int)\n",
    "train_data = {\"X\": X_new[:num_train_samples, ...],\n",
    "              \"y\": y_new[:num_train_samples],\n",
    "              \"sides\": sides[:num_train_samples]}\n",
    "test_data = {\"X\": X_new[num_train_samples:, ...],\n",
    "             \"y\": y_new[num_train_samples:],\n",
    "             \"sides\": sides[num_train_samples:]}"
   ]
  },
  {
   "cell_type": "code",
   "execution_count": 13,
   "metadata": {},
   "outputs": [],
   "source": [
    "# save dataset\n",
    "save_folder = Path(save_path, \"LeftRightMNIST\")\n",
    "if not os.path.isdir(save_folder):\n",
    "    os.mkdir(save_folder)\n",
    "with open(Path(save_folder, \"train.pkl\"), \"wb\") as handle:\n",
    "    pickle.dump(train_data, handle)\n",
    "with open(Path(save_folder, \"test.pkl\"), \"wb\") as handle:\n",
    "    pickle.dump(test_data, handle)"
   ]
  },
  {
   "cell_type": "markdown",
   "metadata": {},
   "source": [
    "Test loading dataset"
   ]
  },
  {
   "cell_type": "code",
   "execution_count": 14,
   "metadata": {},
   "outputs": [],
   "source": [
    "dataset_path = \"/Users/patmccarthy/Documents/thalamocortex/data/LeftRightMNIST/train.pkl\""
   ]
  },
  {
   "cell_type": "code",
   "execution_count": 15,
   "metadata": {},
   "outputs": [],
   "source": [
    "trainset_loader, testset_loader, metadata = create_data_loaders(\"LeftRightMNIST\", \"normalise\", 32, \"/Users/patmccarthy/Documents/thalamocortex/data\")"
   ]
  },
  {
   "cell_type": "code",
   "execution_count": 16,
   "metadata": {},
   "outputs": [],
   "source": [
    "X, y = next(iter(trainset_loader))"
   ]
  }
 ],
 "metadata": {
  "kernelspec": {
   "display_name": "thalamocortex",
   "language": "python",
   "name": "python3"
  },
  "language_info": {
   "codemirror_mode": {
    "name": "ipython",
    "version": 3
   },
   "file_extension": ".py",
   "mimetype": "text/x-python",
   "name": "python",
   "nbconvert_exporter": "python",
   "pygments_lexer": "ipython3",
   "version": "3.10.16"
  }
 },
 "nbformat": 4,
 "nbformat_minor": 2
}
