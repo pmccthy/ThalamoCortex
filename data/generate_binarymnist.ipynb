{
 "cells": [
  {
   "cell_type": "markdown",
   "metadata": {},
   "source": [
    "## **Generate a version of MNIST dataset where one class is labelled 1 and rest are 0**\n",
    "Author: patrick.mccarthy@dtc.ox.ac.uk"
   ]
  },
  {
   "cell_type": "code",
   "execution_count": 1,
   "metadata": {},
   "outputs": [],
   "source": [
    "%load_ext autoreload\n",
    "%autoreload 1"
   ]
  },
  {
   "cell_type": "code",
   "execution_count": 2,
   "metadata": {},
   "outputs": [
    {
     "name": "stderr",
     "output_type": "stream",
     "text": [
      "/Users/patmccarthy/miniconda3/envs/thalamocortex/lib/python3.10/site-packages/tqdm/auto.py:22: TqdmWarning: IProgress not found. Please update jupyter and ipywidgets. See https://ipywidgets.readthedocs.io/en/stable/user_install.html\n",
      "  from .autonotebook import tqdm as notebook_tqdm\n"
     ]
    }
   ],
   "source": [
    "import os\n",
    "import copy\n",
    "from pathlib import Path\n",
    "import numpy as np\n",
    "import matplotlib.pyplot as plt\n",
    "import pickle\n",
    "from thalamocortex.utils import create_data_loaders, add_cue_patch"
   ]
  },
  {
   "cell_type": "code",
   "execution_count": 6,
   "metadata": {},
   "outputs": [],
   "source": [
    "dataset = \"MNIST\"\n",
    "norm = \"normalise\"\n",
    "save_path = \"/Users/patmccarthy/Documents/thalamocortex/data\"\n",
    "batch_size = 32"
   ]
  },
  {
   "cell_type": "markdown",
   "metadata": {},
   "source": [
    "Load source dataset"
   ]
  },
  {
   "cell_type": "code",
   "execution_count": 7,
   "metadata": {},
   "outputs": [],
   "source": [
    "trainset_loader, testset_loader, metadata = create_data_loaders(dataset=dataset,\n",
    "                                                                norm=norm,\n",
    "                                                                save_path=save_path,\n",
    "                                                                batch_size=batch_size)"
   ]
  },
  {
   "cell_type": "code",
   "execution_count": 8,
   "metadata": {},
   "outputs": [
    {
     "name": "stderr",
     "output_type": "stream",
     "text": [
      "/var/folders/4g/1kv65jgx1x1558h12tz57s580000gn/T/ipykernel_29149/3371650113.py:10: VisibleDeprecationWarning: Creating an ndarray from ragged nested sequences (which is a list-or-tuple of lists-or-tuples-or ndarrays with different lengths or shapes) is deprecated. If you meant to do this, you must specify 'dtype=object' when creating the ndarray.\n",
      "  X_all_arr = np.array(X_all)\n",
      "/var/folders/4g/1kv65jgx1x1558h12tz57s580000gn/T/ipykernel_29149/3371650113.py:11: VisibleDeprecationWarning: Creating an ndarray from ragged nested sequences (which is a list-or-tuple of lists-or-tuples-or ndarrays with different lengths or shapes) is deprecated. If you meant to do this, you must specify 'dtype=object' when creating the ndarray.\n",
      "  y_all_arr = np.array(y_all)\n"
     ]
    }
   ],
   "source": [
    "# load full training set\n",
    "X_all = []\n",
    "y_all = []\n",
    "for X, y in iter(trainset_loader):\n",
    "    X_all.append(X.detach().numpy()[:, 0, :, :])\n",
    "    y_all.append(y.detach().numpy()[:])\n",
    "for X, y in iter(testset_loader):\n",
    "    X_all.append(X.detach().numpy()[:, 0, :, :])\n",
    "    y_all.append(y.detach().numpy()[:])\n",
    "X_all_arr = np.array(X_all)\n",
    "y_all_arr = np.array(y_all)\n",
    "# get all samples into one array\n",
    "X_all_reshaped = np.zeros([X_all_arr.shape[0] * X_all_arr[0].shape[0], X_all_arr[0].shape[1], X_all_arr[0].shape[2]])\n",
    "y_all_reshaped = np.zeros([y_all_arr.shape[0] * y_all_arr[0].shape[0]])\n",
    "new_idx = 0\n",
    "for batch_idx, X_batch in enumerate(X_all_arr):\n",
    "    for point_idx, _ in enumerate(X_batch):\n",
    "        X_all_reshaped[new_idx, ...] = X_all_arr[batch_idx][point_idx, :, :]\n",
    "        y_all_reshaped[new_idx] = y_all_arr[batch_idx][point_idx]\n",
    "        new_idx += 1"
   ]
  },
  {
   "cell_type": "markdown",
   "metadata": {},
   "source": [
    "Generate new dataset"
   ]
  },
  {
   "cell_type": "code",
   "execution_count": 13,
   "metadata": {},
   "outputs": [
    {
     "data": {
      "text/plain": [
       "(70016, 28, 28)"
      ]
     },
     "execution_count": 13,
     "metadata": {},
     "output_type": "execute_result"
    }
   ],
   "source": [
    "X_all_reshaped.shape"
   ]
  },
  {
   "cell_type": "code",
   "execution_count": 16,
   "metadata": {},
   "outputs": [],
   "source": [
    "# create combined image dataset with cue patches\n",
    "one_class = 1\n",
    "y_new = np.empty([y_all_reshaped.shape[0]])\n",
    "# shift by 100 in case one class chosen is zeo\n",
    "y_new[y_all_reshaped != one_class] = 0 + 100\n",
    "y_new[y_all_reshaped == one_class] = 1 + 100\n",
    "y_new -= 100"
   ]
  },
  {
   "cell_type": "code",
   "execution_count": 22,
   "metadata": {},
   "outputs": [
    {
     "data": {
      "text/plain": [
       "Text(0.5, 1.0, 'target: 0')"
      ]
     },
     "execution_count": 22,
     "metadata": {},
     "output_type": "execute_result"
    },
    {
     "data": {
      "image/png": "[encoded data removed]",
      "text/plain": [
       "<Figure size 500x250 with 1 Axes>"
      ]
     },
     "metadata": {},
     "output_type": "display_data"
    }
   ],
   "source": [
    "# plot example image as sanity check\n",
    "idx = 10\n",
    "fig, ax = plt.subplots(1, 1, figsize=(5, 2.5))\n",
    "ax.imshow(X_all_reshaped[idx, :, :], cmap=\"gray\")\n",
    "ax.set_title(f\"target: {y_new[idx]:.0f}\")"
   ]
  },
  {
   "cell_type": "code",
   "execution_count": 24,
   "metadata": {},
   "outputs": [
    {
     "data": {
      "text/plain": [
       "(70016, 28, 28)"
      ]
     },
     "execution_count": 24,
     "metadata": {},
     "output_type": "execute_result"
    }
   ],
   "source": [
    "X_all_reshaped.shape"
   ]
  },
  {
   "cell_type": "markdown",
   "metadata": {},
   "source": [
    "Save new dataset"
   ]
  },
  {
   "cell_type": "code",
   "execution_count": 25,
   "metadata": {},
   "outputs": [],
   "source": [
    "# split into train and test sets\n",
    "train_test_split = 0.8\n",
    "num_train_samples = np.floor(X_all_reshaped.shape[0] * train_test_split).astype(int)\n",
    "train_data = {\"X\": X_all_reshaped[:num_train_samples, ...],\n",
    "              \"y\": y_new[:num_train_samples]}\n",
    "test_data = {\"X\": X_all_reshaped[num_train_samples:, ...],\n",
    "             \"y\": y_new[num_train_samples:]}"
   ]
  },
  {
   "cell_type": "code",
   "execution_count": 26,
   "metadata": {},
   "outputs": [],
   "source": [
    "# save dataset\n",
    "save_folder = Path(save_path, \"BinaryMNIST\")\n",
    "if not os.path.isdir(save_folder):\n",
    "    os.mkdir(save_folder)\n",
    "with open(Path(save_folder, \"train.pkl\"), \"wb\") as handle:\n",
    "    pickle.dump(train_data, handle)\n",
    "with open(Path(save_folder, \"test.pkl\"), \"wb\") as handle:\n",
    "    pickle.dump(test_data, handle)"
   ]
  },
  {
   "cell_type": "markdown",
   "metadata": {},
   "source": [
    "Test loading dataset"
   ]
  },
  {
   "cell_type": "code",
   "execution_count": 3,
   "metadata": {},
   "outputs": [],
   "source": [
    "dataset_path = \"/Users/patmccarthy/Documents/thalamocortex/data/BinaryMNIST/train.pkl\""
   ]
  },
  {
   "cell_type": "code",
   "execution_count": 4,
   "metadata": {},
   "outputs": [],
   "source": [
    "trainset_loader, testset_loader, metadata = create_data_loaders(\"BinaryMNIST\", \"normalise\", 32, \"/Users/patmccarthy/Documents/thalamocortex/data\")"
   ]
  },
  {
   "cell_type": "code",
   "execution_count": 5,
   "metadata": {},
   "outputs": [],
   "source": [
    "X, y = next(iter(trainset_loader))"
   ]
  }
 ],
 "metadata": {
  "kernelspec": {
   "display_name": "thalamocortex",
   "language": "python",
   "name": "python3"
  },
  "language_info": {
   "codemirror_mode": {
    "name": "ipython",
    "version": 3
   },
   "file_extension": ".py",
   "mimetype": "text/x-python",
   "name": "python",
   "nbconvert_exporter": "python",
   "pygments_lexer": "ipython3",
   "version": "3.10.16"
  }
 },
 "nbformat": 4,
 "nbformat_minor": 2
}
